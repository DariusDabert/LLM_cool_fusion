{
 "cells": [
  {
   "cell_type": "code",
   "execution_count": 1,
   "metadata": {},
   "outputs": [],
   "source": [
    "import torch\n",
    "from transformers import AutoModelForCausalLM, AutoTokenizer\n",
    "# the cool_fusion function are in source/cool_fusion.py\n",
    "from source.cool_fusion import CoolFusion"
   ]
  },
  {
   "cell_type": "code",
   "execution_count": null,
   "metadata": {},
   "outputs": [],
   "source": [
    "from huggingface_hub import login\n",
    "login(\"your key here\")"
   ]
  },
  {
   "cell_type": "code",
   "execution_count": 2,
   "metadata": {},
   "outputs": [],
   "source": [
    "from transformers import AutoModelForCausalLM, AutoTokenizer\n",
    "import torch\n",
    "\n",
    "# Define the model names\n",
    "model_name1 = \"gpt2\"\n",
    "model_name2 = \"EleutherAI/gpt-neo-125M\"\n",
    "\n",
    "# Load tokenizers\n",
    "tokenizer1 = AutoTokenizer.from_pretrained(model_name1)\n",
    "tokenizer2 = AutoTokenizer.from_pretrained(model_name2)\n",
    "\n",
    "# Load models (using CPU by default; add device_map=\"auto\" for GPU)\n",
    "model1 = AutoModelForCausalLM.from_pretrained(model_name1)\n",
    "model2 = AutoModelForCausalLM.from_pretrained(model_name2)\n",
    "\n",
    "# Sample prompt for generation\n",
    "prompt = \"Once upon a time\"\n",
    "\n",
    "# # Prepare inputs\n",
    "# input_ids1 = tokenizer1(prompt, return_tensors=\"pt\").input_ids\n",
    "# input_ids2 = tokenizer2(prompt, return_tensors=\"pt\").input_ids\n",
    "\n",
    "# # Generate text with both models\n",
    "# output1 = model1.generate(input_ids1, max_new_tokens=50, do_sample=True)\n",
    "# output2 = model2.generate(input_ids2, max_new_tokens=50, do_sample=True)\n",
    "\n",
    "# # Decode and print outputs\n",
    "# print(\"GPT-2 Output:\")\n",
    "# print(tokenizer1.decode(output1[0], skip_special_tokens=True))\n",
    "# print(\"\\nGPT-Neo Output:\")\n",
    "# print(tokenizer2.decode(output2[0], skip_special_tokens=True))\n"
   ]
  },
  {
   "cell_type": "code",
   "execution_count": 3,
   "metadata": {},
   "outputs": [
    {
     "name": "stdout",
     "output_type": "stream",
     "text": [
      "finished_segments {'gpt2': 'he', 'EleutherAI/gpt-neo-125M': ', in'}\n",
      "generated_text Once upon a time\n",
      "finished_segments {'gpt2': 'was', 'EleutherAI/gpt-neo-125M': 'was'}\n",
      "generated_text Once upon a time he\n",
      "finished_segments {'gpt2': 'so', 'EleutherAI/gpt-neo-125M': 'in'}\n",
      "generated_text Once upon a time he was\n",
      "finished_segments {'EleutherAI/gpt-neo-125M': 'the', 'gpt2': 'Paris,'}\n",
      "generated_text Once upon a time he was in\n",
      "finished_segments {'gpt2': 'woods,', 'EleutherAI/gpt-neo-125M': 'Army,'}\n",
      "generated_text Once upon a time he was in the\n",
      "finished_segments {'gpt2': 'the', 'EleutherAI/gpt-neo-125M': 'a veteran'}\n",
      "generated_text Once upon a time he was in the Army,\n",
      "finished_segments {'gpt2': 'Army', 'EleutherAI/gpt-neo-125M': 'American'}\n",
      "generated_text Once upon a time he was in the Army, the\n",
      "finished_segments {'gpt2': 'was', 'EleutherAI/gpt-neo-125M': 'was'}\n",
      "generated_text Once upon a time he was in the Army, the Army\n",
      "finished_segments {'gpt2': 'one', 'EleutherAI/gpt-neo-125M': 'under'}\n",
      "generated_text Once upon a time he was in the Army, the Army was\n",
      "finished_segments {'gpt2': 'of', 'EleutherAI/gpt-neo-125M': 'of'}\n",
      "generated_text Once upon a time he was in the Army, the Army was one\n",
      "finished_segments {'gpt2': 'the', 'EleutherAI/gpt-neo-125M': 'the'}\n",
      "generated_text Once upon a time he was in the Army, the Army was one of\n",
      "finished_segments {'gpt2': 'few', 'EleutherAI/gpt-neo-125M': 'best'}\n",
      "generated_text Once upon a time he was in the Army, the Army was one of the\n",
      "finished_segments {'gpt2': 'countries', 'EleutherAI/gpt-neo-125M': 'places'}\n",
      "generated_text Once upon a time he was in the Army, the Army was one of the few\n",
      "finished_segments {'gpt2': 'the', 'EleutherAI/gpt-neo-125M': 'in'}\n",
      "generated_text Once upon a time he was in the Army, the Army was one of the few places\n",
      "finished_segments {'gpt2': 'which', 'EleutherAI/gpt-neo-125M': 'the'}\n",
      "generated_text Once upon a time he was in the Army, the Army was one of the few places in\n",
      "finished_segments {'gpt2': 'world', 'EleutherAI/gpt-neo-125M': 'world'}\n",
      "generated_text Once upon a time he was in the Army, the Army was one of the few places in the\n",
      "finished_segments {'gpt2': 'with', 'EleutherAI/gpt-neo-125M': 'where'}\n",
      "generated_text Once upon a time he was in the Army, the Army was one of the few places in the world\n",
      "finished_segments {'gpt2': 'your', 'EleutherAI/gpt-neo-125M': 'your'}\n",
      "generated_text Once upon a time he was in the Army, the Army was one of the few places in the world where\n",
      "finished_segments {'gpt2': 'average', 'EleutherAI/gpt-neo-125M': 'troops'}\n",
      "generated_text Once upon a time he was in the Army, the Army was one of the few places in the world where your\n",
      "finished_segments {'gpt2': 'person', 'EleutherAI/gpt-neo-125M': 'soldier'}\n",
      "generated_text Once upon a time he was in the Army, the Army was one of the few places in the world where your average\n",
      "finished_segments {'gpt2': 'could', 'EleutherAI/gpt-neo-125M': 'was'}\n",
      "generated_text Once upon a time he was in the Army, the Army was one of the few places in the world where your average soldier\n",
      "finished_segments {'gpt2': 'walk', 'EleutherAI/gpt-neo-125M': 'get'}\n",
      "generated_text Once upon a time he was in the Army, the Army was one of the few places in the world where your average soldier could\n",
      "finished_segments {'gpt2': 'the', 'EleutherAI/gpt-neo-125M': 'himself'}\n",
      "generated_text Once upon a time he was in the Army, the Army was one of the few places in the world where your average soldier could get\n",
      "finished_segments {'gpt2': 'training', 'EleutherAI/gpt-neo-125M': 'maximum'}\n",
      "generated_text Once upon a time he was in the Army, the Army was one of the few places in the world where your average soldier could get the\n",
      "finished_segments {'gpt2': 'and', 'EleutherAI/gpt-neo-125M': 'to'}\n",
      "generated_text Once upon a time he was in the Army, the Army was one of the few places in the world where your average soldier could get the training\n",
      "finished_segments {'gpt2': 'be', 'EleutherAI/gpt-neo-125M': 'instruction'}\n",
      "generated_text Once upon a time he was in the Army, the Army was one of the few places in the world where your average soldier could get the training and\n",
      "finished_segments {'gpt2': 'as', 'EleutherAI/gpt-neo-125M': 'out'}\n",
      "generated_text Once upon a time he was in the Army, the Army was one of the few places in the world where your average soldier could get the training and be\n",
      "finished_segments {'gpt2': 'effective', 'EleutherAI/gpt-neo-125M': 'effective'}\n",
      "generated_text Once upon a time he was in the Army, the Army was one of the few places in the world where your average soldier could get the training and be as\n",
      "finished_segments {'gpt2': 'in', 'EleutherAI/gpt-neo-125M': 'as'}\n",
      "generated_text Once upon a time he was in the Army, the Army was one of the few places in the world where your average soldier could get the training and be as effective\n",
      "finished_segments {'gpt2': 'an', 'EleutherAI/gpt-neo-125M': 'his'}\n",
      "generated_text Once upon a time he was in the Army, the Army was one of the few places in the world where your average soldier could get the training and be as effective as\n",
      "finished_segments {'gpt2': 'actual', 'EleutherAI/gpt-neo-125M': 'active-duty'}\n",
      "generated_text Once upon a time he was in the Army, the Army was one of the few places in the world where your average soldier could get the training and be as effective as an\n",
      "finished_segments {'gpt2': 'Army', 'EleutherAI/gpt-neo-125M': 'soldier.'}\n",
      "Once upon a time he was in the Army, the Army was one of the few places in the world where your average soldier could get the training and be as effective as an active-duty soldier.\n"
     ]
    }
   ],
   "source": [
    "# usage\n",
    "\n",
    "fused_model = CoolFusion(\n",
    "    models={\"gpt2\": model1, \"EleutherAI/gpt-neo-125M\": model2},\n",
    "    tokenizers={\"gpt2\": tokenizer1, \"EleutherAI/gpt-neo-125M\": tokenizer2},\n",
    "    max_length=250\n",
    ")\n",
    "\n",
    "context = \"Once upon a time\"\n",
    "generated_text = fused_model.generate(context)\n",
    "print(generated_text)\n"
   ]
  },
  {
   "cell_type": "code",
   "execution_count": null,
   "metadata": {},
   "outputs": [],
   "source": []
  },
  {
   "cell_type": "code",
   "execution_count": null,
   "metadata": {},
   "outputs": [],
   "source": []
  }
 ],
 "metadata": {
  "kernelspec": {
   "display_name": "base",
   "language": "python",
   "name": "python3"
  },
  "language_info": {
   "codemirror_mode": {
    "name": "ipython",
    "version": 3
   },
   "file_extension": ".py",
   "mimetype": "text/x-python",
   "name": "python",
   "nbconvert_exporter": "python",
   "pygments_lexer": "ipython3",
   "version": "3.11.3"
  }
 },
 "nbformat": 4,
 "nbformat_minor": 2
}
